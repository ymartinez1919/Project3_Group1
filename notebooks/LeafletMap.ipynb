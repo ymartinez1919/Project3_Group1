{
 "cells": [
  {
   "cell_type": "code",
   "execution_count": 1,
   "id": "e756dfc5",
   "metadata": {},
   "outputs": [],
   "source": [
    "import pandas as pd"
   ]
  },
  {
   "cell_type": "code",
   "execution_count": 2,
   "id": "4f43675b",
   "metadata": {},
   "outputs": [],
   "source": [
    "df = pd.read_csv (r'C:\\Users\\yvonne\\Documents\\SMU\\Project 3\\group1-project3\\website\\static\\data\\HateCrime_map2.csv')\n",
    "df.to_json (r'C:\\Users\\yvonne\\Documents\\SMU\\Project 3\\group1-project3\\website\\static\\data\\/HateCrime_Map.json')"
   ]
  },
  {
   "cell_type": "code",
   "execution_count": null,
   "id": "6d6c8fd6",
   "metadata": {},
   "outputs": [],
   "source": []
  }
 ],
 "metadata": {
  "kernelspec": {
   "display_name": "Python 3 (ipykernel)",
   "language": "python",
   "name": "python3"
  },
  "language_info": {
   "codemirror_mode": {
    "name": "ipython",
    "version": 3
   },
   "file_extension": ".py",
   "mimetype": "text/x-python",
   "name": "python",
   "nbconvert_exporter": "python",
   "pygments_lexer": "ipython3",
   "version": "3.9.7"
  }
 },
 "nbformat": 4,
 "nbformat_minor": 5
}
